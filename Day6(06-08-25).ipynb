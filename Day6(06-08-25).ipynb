{
 "cells": [
  {
   "cell_type": "code",
   "execution_count": 3,
   "id": "87fc44cd-b4fa-450e-bf84-82f528531f53",
   "metadata": {},
   "outputs": [
    {
     "name": "stdout",
     "output_type": "stream",
     "text": [
      "      Name  Age  Salary\n",
      "0    Alice   25   50000\n",
      "1      Bob   30   60000\n",
      "2  Charlie   35   70000\n",
      "3    David   40    8000\n",
      "    Name  Age  Salary\n",
      "0  Alice   25   50000\n",
      "1    Bob   30   60000\n",
      "             Age        Salary\n",
      "count   4.000000      4.000000\n",
      "mean   32.500000  47000.000000\n",
      "std     6.454972  27251.911248\n",
      "min    25.000000   8000.000000\n",
      "25%    28.750000  39500.000000\n",
      "50%    32.500000  55000.000000\n",
      "75%    36.250000  62500.000000\n",
      "max    40.000000  70000.000000\n",
      "32.5\n",
      "      Name  Age  Salary\n",
      "2  Charlie   35   70000\n",
      "3    David   40    8000\n",
      "      Name  Salary\n",
      "1      Bob   60000\n",
      "2  Charlie   70000\n",
      "     A    B\n",
      "0  1.0  5.0\n",
      "1  2.0  0.0\n",
      "2  0.0  0.0\n",
      "3  4.0  8.0\n",
      "     A    B\n",
      "0  1.0  5.0\n",
      "3  4.0  8.0\n"
     ]
    }
   ],
   "source": [
    "import pandas as pd\n",
    "import numpy as np\n",
    "\n",
    "# Creating DataFrames\n",
    "data = {\n",
    "    'Name':['Alice','Bob','Charlie','David'],\n",
    "    'Age':[25,30,35,40],\n",
    "    'Salary':[50000,60000,70000,8000]\n",
    "}\n",
    "df = pd.DataFrame(data)\n",
    "print(df)\n",
    "\n",
    "# Reading from CSV\n",
    "# df = pd.read_csv('data.csv')\n",
    "\n",
    "# Basic operations\n",
    "print(df.head(2)) # First 2 rows\n",
    "print(df.describe()) # Summary statistics\n",
    "print(df['Age'].mean()) # Average age\n",
    "\n",
    "# Data Selection\n",
    "print(df[df['Age'] > 30])\n",
    "print(df.loc[1:2,['Name','Salary']])\n",
    "\n",
    "# Handling missing data\n",
    "df_with_nan = pd.DataFrame({\n",
    "    'A': [1, 2, np.nan, 4],\n",
    "    'B': [5, np.nan, np.nan, 8]\n",
    "})\n",
    "print(df_with_nan.fillna(value=0)) # Replace NaN with 0\n",
    "print(df_with_nan.dropna()) # Drop rows with NaN"
   ]
  },
  {
   "cell_type": "code",
   "execution_count": 2,
   "id": "7c854427-a4e9-4af4-aefb-f58411177114",
   "metadata": {},
   "outputs": [
    {
     "name": "stdout",
     "output_type": "stream",
     "text": [
      "[ 2  4  6  8 10]\n",
      "[ 2  4  6  8 10]\n",
      "[[ 0  1  2  3]\n",
      " [ 4  5  6  7]\n",
      " [ 8  9 10 11]]\n",
      "[[19 22]\n",
      " [43 50]]\n",
      "Mean: 0.030272789717925845, Std: 0.99761350795335\n"
     ]
    }
   ],
   "source": [
    "import numpy as np\n",
    "#creating arrays\n",
    "arr1 = np.array([1,2,3,4,5]) #1D array\n",
    "arr2 = np.array([[1,2,3],[4,5,6]]) #2D array\n",
    "\n",
    "#Array operations (vectorization)\n",
    "print(arr1 * 2) # Multiply each element by 2\n",
    "print(arr1 + arr1) # Add arrays element-wise\n",
    "\n",
    "# Reshaping\n",
    "arr3 = np.arange(12).reshape(3,4) #Creating a 3x4 array from 0-11\n",
    "print(arr3)\n",
    "\n",
    "# Matrix Operations\n",
    "matrix1 = np.array([[1,2],[3,4]])\n",
    "matrix2 = np.array([[5,6],[7,8]])\n",
    "print(np.dot(matrix1,matrix2)) # Matrix Multiplication\n",
    "\n",
    "# Statistical operations\n",
    "data = np.random.normal(0,1,1000) #1000 random numbers from normal distribution\n",
    "print(f\"Mean: {data.mean()}, Std: {data.std()}\")\n"
   ]
  }
 ],
 "metadata": {
  "kernelspec": {
   "display_name": "Python [conda env:base] *",
   "language": "python",
   "name": "conda-base-py"
  },
  "language_info": {
   "codemirror_mode": {
    "name": "ipython",
    "version": 3
   },
   "file_extension": ".py",
   "mimetype": "text/x-python",
   "name": "python",
   "nbconvert_exporter": "python",
   "pygments_lexer": "ipython3",
   "version": "3.12.7"
  }
 },
 "nbformat": 4,
 "nbformat_minor": 5
}
